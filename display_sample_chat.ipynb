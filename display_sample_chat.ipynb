{
 "cells": [
  {
   "cell_type": "code",
   "execution_count": 2,
   "metadata": {},
   "outputs": [
    {
     "name": "stdout",
     "output_type": "stream",
     "text": [
      "hdf5 is not supported on this machine (please install/reinstall h5py for optimal experience)\n",
      "INFO:tensorflow:Restoring parameters from /home/felix/Documents/chatbot_task/python-talks/model2.tflearn\n"
     ]
    }
   ],
   "source": [
    "%run generate_responses.py"
   ]
  },
  {
   "cell_type": "code",
   "execution_count": null,
   "metadata": {
    "scrolled": false
   },
   "outputs": [
    {
     "name": "stdout",
     "output_type": "stream",
     "text": [
      ">>> Anyone there?\n",
      "Good to see you again \n",
      "\n",
      "[('greeting', 0.74104702), ('wants_virtual_assistent', 0.064668156), ('generalPhonesQuery', 0.056938082), ('wantsWearable', 0.035528947), ('wantsComputer', 0.026079144), ('goodbye', 0.023628872), ('wantsSurface', 0.022835119), ('smarthome-undecided', 0.011117083), ('wantsRoboticVacuum', 0.0068995887), ('likesSamsung', 0.0040003792), ('wantsDrone', 0.0035041992), ('likes_iPhone', 0.0020888769), ('wantsVR', 0.0011213735), ('wantsCoffeeMachine', 0.00039048269), ('wantsConvertible-ambiguous', 6.6453758e-05), ('wantsMacBook', 5.9053637e-05), ('thanks', 1.5193662e-05), ('wantsYoga', 1.2075336e-05)] \n",
      "\n",
      ">>> Am interested in phones\n",
      "iPhone or Android? \n",
      "\n",
      "[('generalPhonesQuery', 0.88166642), ('wantsWearable', 0.062914655), ('wantsRoboticVacuum', 0.026923509), ('greeting', 0.01318537), ('wantsVR', 0.0064393883), ('wants_virtual_assistent', 0.0038010548), ('wantsComputer', 0.0028439593), ('wantsSurface', 0.0014171465), ('wantsDrone', 0.00080695841), ('likes_iPhone', 5.8090086e-07), ('smarthome-undecided', 4.4948936e-07), ('wantsCoffeeMachine', 2.4397448e-07), ('wantsConvertible-ambiguous', 5.4488702e-08), ('goodbye', 5.1617214e-08), ('likesSamsung', 1.9718284e-08), ('wantsMacBook', 1.5169977e-08), ('thanks', 1.1599217e-11), ('wantsYoga', 6.1588614e-13)] \n",
      "\n",
      ">>> Android\n",
      "You can rent the Samsung Galaxy S8 64GB for €44,99 or the S8+ for€49,99 \n",
      "\n",
      "[('likesSamsung', 0.94057673), ('likes_iPhone', 0.014612789), ('smarthome-undecided', 0.012256984), ('goodbye', 0.0098111946), ('wantsSurface', 0.0093301143), ('wantsYoga', 0.0090598334), ('wantsConvertible-ambiguous', 0.0025985029), ('greeting', 0.00094425346), ('thanks', 0.00077181903), ('wantsWearable', 1.6749858e-05), ('wantsRoboticVacuum', 1.5522321e-05), ('wantsDrone', 3.8000935e-06), ('wantsComputer', 7.2214647e-07), ('wantsMacBook', 3.5772135e-07), ('generalPhonesQuery', 2.8200026e-07), ('wants_virtual_assistent', 2.6020044e-07), ('wantsCoffeeMachine', 1.2706457e-07), ('wantsVR', 2.6550933e-09)] \n",
      "\n",
      ">>> Actually would also like to hear about Apple\n",
      "I don't understand sorry, am only a robot - please ask me that again but try with just a single word. \n",
      "\n",
      "[('wantsDrone', 0.42811996), ('wants_virtual_assistent', 0.16528532), ('wantsRoboticVacuum', 0.11939482), ('likes_iPhone', 0.057550527), ('generalPhonesQuery', 0.049303565), ('goodbye', 0.048265364), ('greeting', 0.042941947), ('wantsVR', 0.036205947), ('wantsMacBook', 0.012679056), ('wantsComputer', 0.011402437), ('wantsSurface', 0.0074844887), ('wantsCoffeeMachine', 0.0066466411), ('wantsConvertible-ambiguous', 0.0064552696), ('wantsWearable', 0.0041798288), ('likesSamsung', 0.0018900158), ('smarthome-undecided', 0.00082465744), ('wantsYoga', 0.00068880891), ('thanks', 0.00068128062)] \n",
      "\n",
      ">>> Apple\n",
      "I don't understand sorry, am only a robot - please ask me that again but try with just a single word. \n",
      "\n",
      "[('wantsRoboticVacuum', 0.34285167), ('wantsDrone', 0.12620296), ('greeting', 0.1001763), ('generalPhonesQuery', 0.09265364), ('wantsComputer', 0.06989155), ('wantsWearable', 0.06699314), ('wants_virtual_assistent', 0.055943053), ('wantsSurface', 0.042113315), ('wantsVR', 0.040325455), ('likes_iPhone', 0.016712274), ('goodbye', 0.014778031), ('wantsConvertible-ambiguous', 0.012311729), ('smarthome-undecided', 0.0084415246), ('wantsCoffeeMachine', 0.0047865468), ('likesSamsung', 0.0034077226), ('wantsMacBook', 0.0015614082), ('thanks', 0.00072251301), ('wantsYoga', 0.00012723004)] \n",
      "\n",
      ">>> iPhone\n",
      "You can rent an iPhone 7 128GB for €44,99, an iPhone 7 32GB for €39,99 or a 7 Plus 128GB for €49,99 \n",
      "\n",
      "[('likes_iPhone', 0.96223998), ('wantsDrone', 0.014905267), ('likesSamsung', 0.0066940151), ('wantsYoga', 0.0060140397), ('goodbye', 0.0041233241), ('wantsConvertible-ambiguous', 0.0039768256), ('wantsSurface', 0.0011547082), ('wantsRoboticVacuum', 0.00059095124), ('wantsMacBook', 0.00013133997), ('greeting', 0.00010854884), ('thanks', 2.5891566e-05), ('wants_virtual_assistent', 2.4918538e-05), ('generalPhonesQuery', 8.4937337e-06), ('smarthome-undecided', 6.8180265e-07), ('wantsVR', 5.2103059e-07), ('wantsWearable', 3.0698737e-07), ('wantsCoffeeMachine', 1.6150001e-07), ('wantsComputer', 2.3949587e-08)] \n",
      "\n",
      ">>> Ok good. I heard you also have smart appliances. What have you got?\n",
      "We have robotic vacuum cleaners, virtual assistant speakers and a coffee machine \n",
      "\n",
      "[('smarthome-undecided', 0.89588112), ('greeting', 0.065141469), ('likesSamsung', 0.016790692), ('goodbye', 0.0079284869), ('wantsComputer', 0.0064614969), ('wantsWearable', 0.0057298965), ('wantsSurface', 0.0018098683), ('wants_virtual_assistent', 7.1094088e-05), ('thanks', 7.0857721e-05), ('generalPhonesQuery', 4.2422998e-05), ('wantsCoffeeMachine', 3.636464e-05), ('wantsYoga', 1.1345541e-05), ('likes_iPhone', 1.0276563e-05), ('wantsRoboticVacuum', 8.1769613e-06), ('wantsConvertible-ambiguous', 5.37807e-06), ('wantsVR', 5.1400701e-07), ('wantsDrone', 3.5054504e-07), ('wantsMacBook', 1.5003747e-07)] \n",
      "\n",
      ">>> Well, the speakers interest me\n",
      "You can rent the Amazon Alexa Dot for €44,99 or the Alexa Echo for €49,99 \n",
      "\n",
      "[('wants_virtual_assistent', 0.84795016), ('goodbye', 0.035438441), ('wantsComputer', 0.030515051), ('wantsCoffeeMachine', 0.023812542), ('greeting', 0.021283656), ('wantsVR', 0.014957384), ('generalPhonesQuery', 0.012113806), ('wantsDrone', 0.0086413855), ('wantsMacBook', 0.003814073), ('wantsRoboticVacuum', 0.00062680367), ('wantsWearable', 0.0003837659), ('smarthome-undecided', 0.00021229737), ('likes_iPhone', 0.00016510258), ('thanks', 2.7669035e-05), ('wantsSurface', 2.5622348e-05), ('likesSamsung', 1.6523385e-05), ('wantsYoga', 1.1760932e-05), ('wantsConvertible-ambiguous', 4.0030473e-06)] \n",
      "\n",
      ">>> and what if my computer died and I needed a new one?\n",
      "We have a range of MacBooks, a Microsoft Surface or a Lenovo Yoga. Which kind would you like? \n",
      "\n",
      "[('wantsComputer', 0.76420802), ('wantsVR', 0.080791764), ('generalPhonesQuery', 0.054055598), ('wantsWearable', 0.051684987), ('wants_virtual_assistent', 0.031840671), ('greeting', 0.0070687188), ('wantsRoboticVacuum', 0.0050382442), ('wantsCoffeeMachine', 0.0042495718), ('smarthome-undecided', 0.00054365909), ('wantsDrone', 0.00042072384), ('wantsSurface', 5.9566253e-05), ('goodbye', 2.5878313e-05), ('wantsMacBook', 9.7845104e-06), ('wantsConvertible-ambiguous', 1.5283609e-06), ('thanks', 7.2610129e-07), ('likes_iPhone', 3.3645659e-07), ('likesSamsung', 2.5746735e-07), ('wantsYoga', 2.2857138e-09)] \n",
      "\n",
      ">>> How much for the Macbooks?\n",
      "I don't understand sorry, am only a robot - please ask me that again but try with just a single word. \n",
      "\n",
      "[('goodbye', 0.5722813), ('wants_virtual_assistent', 0.34900016), ('wantsMacBook', 0.068245694), ('wantsYoga', 0.0040376587), ('wantsDrone', 0.0024658621), ('wantsCoffeeMachine', 0.0023722707), ('likes_iPhone', 0.0011786019), ('greeting', 0.0003380969), ('wantsVR', 3.4258421e-05), ('generalPhonesQuery', 2.4927313e-05), ('thanks', 8.7185481e-06), ('likesSamsung', 8.3088225e-06), ('wantsComputer', 3.6421793e-06), ('smarthome-undecided', 2.8228703e-07), ('wantsRoboticVacuum', 1.8242758e-07), ('wantsConvertible-ambiguous', 5.3676438e-08), ('wantsSurface', 2.6780731e-08), ('wantsWearable', 4.286858e-09)] \n",
      "\n",
      ">>> Macbooks\n",
      "We have the following MacBooks: MacBook 12 inch M-5Y31, 8GB RAM, 516GB for €59,99, MacBook Air 11 inch i7 2.2, 8GB RAM, 512GB for €64,99, MacBook Air 13 inch i5-5250U, 4GB RAM, 128GB for €69,99, MacBook Pro 13 inch i5-3210M, 4GB RAM, 500GB for €74,99. \n",
      "\n",
      "[('wantsMacBook', 0.9534027), ('wantsDrone', 0.016635153), ('wantsCoffeeMachine', 0.014531458), ('wants_virtual_assistent', 0.0064872438), ('wantsYoga', 0.004378343), ('goodbye', 0.003479311), ('wantsVR', 0.00067353551), ('thanks', 0.00020979549), ('likes_iPhone', 0.00019635595), ('wantsConvertible-ambiguous', 3.8790554e-06), ('wantsRoboticVacuum', 1.0595821e-06), ('wantsComputer', 5.272243e-07), ('generalPhonesQuery', 4.9967127e-07), ('greeting', 4.937753e-08), ('likesSamsung', 2.0236765e-08), ('smarthome-undecided', 1.6444176e-09), ('wantsSurface', 1.528488e-10), ('wantsWearable', 7.3717296e-11)] \n",
      "\n",
      ">>> And the microsoft surface?\n",
      "Certainly you can rent a Microsoft Surface convertible notebook 512GB SSD Intel Core i7 16GB RAM dGPU for €59,99 \n",
      "\n",
      "[('wantsSurface', 0.99853802), ('wantsWearable', 0.00058647495), ('likesSamsung', 0.00054746179), ('greeting', 0.0003112132), ('wantsRoboticVacuum', 1.2065446e-05), ('likes_iPhone', 2.1861654e-06), ('smarthome-undecided', 1.9139636e-06), ('generalPhonesQuery', 6.4264435e-07), ('wantsConvertible-ambiguous', 1.6668075e-07), ('wantsDrone', 5.6859789e-10), ('wantsComputer', 2.178103e-10), ('goodbye', 1.5231182e-10), ('wants_virtual_assistent', 2.6383086e-12), ('wantsYoga', 4.3356361e-13), ('wantsVR', 1.9814734e-13), ('thanks', 1.1131139e-13), ('wantsMacBook', 7.8132516e-17), ('wantsCoffeeMachine', 5.9088085e-17)] \n",
      "\n"
     ]
    },
    {
     "name": "stdout",
     "output_type": "stream",
     "text": [
      ">>> do you have the apple watch?\n",
      "You can rent the following smartwatches : 38mm Apple Watch for €39,99, 42mm Apple Watch for €44,99,  Suunto Ambit 3 watch for €39,99 or Asus Watch WI503Q-1LDBR0001 for €44,99. \n",
      "\n",
      "[('wantsWearable', 0.95467699), ('wantsSurface', 0.016650718), ('wantsRoboticVacuum', 0.010188815), ('wantsComputer', 0.006998504), ('generalPhonesQuery', 0.0063742409), ('greeting', 0.004639803), ('smarthome-undecided', 0.00043071428), ('wantsVR', 3.3282256e-05), ('wants_virtual_assistent', 2.8758639e-06), ('wantsDrone', 1.568941e-06), ('wantsConvertible-ambiguous', 1.3680853e-06), ('likesSamsung', 1.1358831e-06), ('likes_iPhone', 5.229294e-08), ('wantsCoffeeMachine', 3.0377432e-08), ('goodbye', 1.5014132e-08), ('thanks', 8.1864104e-10), ('wantsMacBook', 4.7909898e-11), ('wantsYoga', 9.0800289e-13)] \n",
      "\n",
      ">>> what about virtual reality glasses?\n",
      "The VR-glasses can rent you are the HTC Vice the Oculus Rift, both cost €59,99 \n",
      "\n",
      "[('wantsVR', 0.96734536), ('wantsComputer', 0.008959339), ('wantsRoboticVacuum', 0.0087559838), ('wantsDrone', 0.0062050126), ('wantsCoffeeMachine', 0.0040216018), ('generalPhonesQuery', 0.0025139588), ('wants_virtual_assistent', 0.0019417774), ('wantsMacBook', 0.00015023255), ('wantsWearable', 9.7946409e-05), ('wantsConvertible-ambiguous', 6.7650863e-06), ('greeting', 1.1339326e-06), ('thanks', 4.0833643e-07), ('wantsSurface', 1.1335374e-07), ('goodbye', 9.5843824e-08), ('likes_iPhone', 9.1592554e-08), ('smarthome-undecided', 8.2872077e-08), ('wantsYoga', 8.0139567e-10), ('likesSamsung', 1.392083e-10)] \n",
      "\n",
      ">>> Ok that's all for now thanks\n",
      "Happy to help! \n",
      "\n",
      "[('thanks', 0.99757355), ('wantsConvertible-ambiguous', 0.0011341897), ('wantsYoga', 0.00097343232), ('smarthome-undecided', 0.00016593632), ('wantsCoffeeMachine', 0.000136733), ('goodbye', 1.1442281e-05), ('wantsMacBook', 2.3294451e-06), ('likesSamsung', 1.4239354e-06), ('wantsComputer', 8.1934041e-07), ('likes_iPhone', 4.5533348e-08), ('wantsRoboticVacuum', 3.0208309e-08), ('wantsVR', 6.2745982e-09), ('wantsDrone', 6.1538348e-09), ('wantsWearable', 1.1870943e-09), ('wantsSurface', 4.0393702e-10), ('wants_virtual_assistent', 1.3874958e-10), ('greeting', 5.8624008e-11), ('generalPhonesQuery', 7.1311154e-13)] \n",
      "\n",
      ">>> goodbye\n",
      "See you later, thanks for visiting \n",
      "\n",
      "[('goodbye', 0.92067373), ('wants_virtual_assistent', 0.02489897), ('greeting', 0.015650354), ('wantsYoga', 0.0085054366), ('likesSamsung', 0.0069162333), ('likes_iPhone', 0.0061734905), ('wantsCoffeeMachine', 0.0041476451), ('smarthome-undecided', 0.004080276), ('wantsMacBook', 0.0032543675), ('thanks', 0.0024271158), ('wantsDrone', 0.001494552), ('wantsComputer', 0.001148072), ('generalPhonesQuery', 0.00016520306), ('wantsSurface', 0.00014236517), ('wantsConvertible-ambiguous', 0.00011307902), ('wantsRoboticVacuum', 9.002498e-05), ('wantsVR', 7.3123927e-05), ('wantsWearable', 4.6117362e-05)] \n",
      "\n"
     ]
    }
   ],
   "source": [
    "while True:\n",
    "    question = input(\">>> \")\n",
    "    answer = response(question)\n",
    "    c = classify(question)      \n",
    "    print (answer, '\\n')\n",
    "    print (c, '\\n')    "
   ]
  },
  {
   "cell_type": "code",
   "execution_count": null,
   "metadata": {
    "collapsed": true
   },
   "outputs": [],
   "source": []
  }
 ],
 "metadata": {
  "kernelspec": {
   "display_name": "Python 3",
   "language": "python",
   "name": "python3"
  },
  "language_info": {
   "codemirror_mode": {
    "name": "ipython",
    "version": 3
   },
   "file_extension": ".py",
   "mimetype": "text/x-python",
   "name": "python",
   "nbconvert_exporter": "python",
   "pygments_lexer": "ipython3",
   "version": "3.6.0"
  }
 },
 "nbformat": 4,
 "nbformat_minor": 2
}
