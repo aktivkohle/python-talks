{
 "cells": [
  {
   "cell_type": "code",
   "execution_count": 1,
   "metadata": {},
   "outputs": [
    {
     "name": "stdout",
     "output_type": "stream",
     "text": [
      "hdf5 is not supported on this machine (please install/reinstall h5py for optimal experience)\n",
      "INFO:tensorflow:Restoring parameters from /home/felix/Documents/chatbot_task/python-talks/model2.tflearn\n"
     ]
    }
   ],
   "source": [
    "%run generate_resonses.py"
   ]
  },
  {
   "cell_type": "code",
   "execution_count": null,
   "metadata": {},
   "outputs": [
    {
     "name": "stdout",
     "output_type": "stream",
     "text": [
      ">>> Anyone there?\n",
      "Hello, thanks for visiting. \n",
      "\n",
      ">>> Am interested in phones\n",
      "There is a choice from Apple and Samsung, which brand do you prefer? \n",
      "\n",
      ">>> Will go with Samsung\n",
      "There are two virtual reality glasses we offer, the HTC Vice or the Oculus Rift, both for €59,99 \n",
      "\n",
      ">>> What if I need a notebook computer\n",
      "We can offer you a range of Apple Macbooks from €59,99 to €74,99, a Microsoft Surface for €59,99 or a Lenovo convertible Yoga 300-11IBR also for €59,99 \n",
      "\n",
      ">>> Samsung phone\n",
      "Bye! Come back again soon. \n",
      "\n",
      ">>> Am interested in phones\n",
      "There is a choice from Apple and Samsung, which brand do you prefer? \n",
      "\n",
      ">>> Apple\n",
      "We have three models of iPhone 7, with 128GB, 32GB and the 7 Plus with 128GB. Which do you want to know about? \n",
      "\n",
      ">>> the 7 Plus\n",
      "Renting an iPhone 7 128GB will be €44,99 per month \n",
      "\n",
      ">>> No, the 7 PLUS\n",
      "Renting an iPhone 7 128GB will be €44,99 per month \n",
      "\n",
      ">>> iPhone 7 plus!!\n",
      "Renting an iPhone 7 128GB will be €44,99 per month \n",
      "\n",
      ">>> what about something which flies\n",
      "We can rent you a Parrot BEBOP drone for €49,99 or a BEBOP 2 for €59,99 \n",
      "\n",
      ">>> ok good, and what about a robotic vacuum cleaner?\n",
      "My pleasure \n",
      "\n",
      ">>> appliances\n",
      "None \n",
      "\n",
      ">>> smart home?\n",
      "None \n",
      "\n",
      ">>> ok goodbye\n",
      "Have a nice day \n",
      "\n"
     ]
    }
   ],
   "source": [
    "while True:\n",
    "    question = input(\">>> \")\n",
    "    answer = response(question)\n",
    "    print (answer, '\\n')"
   ]
  }
 ],
 "metadata": {
  "kernelspec": {
   "display_name": "Python 3",
   "language": "python",
   "name": "python3"
  },
  "language_info": {
   "codemirror_mode": {
    "name": "ipython",
    "version": 3
   },
   "file_extension": ".py",
   "mimetype": "text/x-python",
   "name": "python",
   "nbconvert_exporter": "python",
   "pygments_lexer": "ipython3",
   "version": "3.6.0"
  }
 },
 "nbformat": 4,
 "nbformat_minor": 2
}
