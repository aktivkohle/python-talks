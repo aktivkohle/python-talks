{
 "cells": [
  {
   "cell_type": "code",
   "execution_count": 1,
   "metadata": {},
   "outputs": [
    {
     "name": "stdout",
     "output_type": "stream",
     "text": [
      "hdf5 is not supported on this machine (please install/reinstall h5py for optimal experience)\n",
      "INFO:tensorflow:Restoring parameters from /home/felix/Documents/chatbot_task/python-talks/model2.tflearn\n"
     ]
    }
   ],
   "source": [
    "%run generate_responses.py"
   ]
  },
  {
   "cell_type": "code",
   "execution_count": null,
   "metadata": {
    "collapsed": true
   },
   "outputs": [],
   "source": [
    "# for just the conversation use this cell\n",
    "while True:\n",
    "    question = input(\">>> \")\n",
    "    answer = response(question)    \n",
    "    print (answer, '\\n')"
   ]
  },
  {
   "cell_type": "code",
   "execution_count": 3,
   "metadata": {
    "scrolled": false
   },
   "outputs": [
    {
     "name": "stdout",
     "output_type": "stream",
     "text": [
      ">>> Hi, is anyone there?\n",
      "CPU times: user 0 ns, sys: 0 ns, total: 0 ns\n",
      "Wall time: 21.2 µs\n",
      "Hello, thanks for visiting. \n",
      "\n",
      "[('greeting', 0.9999907), ('wantsWearable', 1.7748285e-06), ('wantsSurface', 1.3185695e-06), ('likesSamsung', 1.0978118e-06), ('generalPhonesQuery', 1.0697968e-06), ('goodbye', 9.7130692e-07), ('likes_iPhone', 7.8852452e-07), ('wantsVR', 6.2464102e-07), ('wantsComputer', 4.798186e-07), ('wantsCoffeeMachine', 4.0145699e-07), ('wantsYoga', 3.4692454e-07), ('wants_virtual_assistent', 1.9377993e-07), ('wantsMacBook', 1.7220914e-07), ('wantsRoboticVacuum', 9.4851117e-08), ('wantsDrone', 5.6868977e-08), ('hates_Apple', 2.0628885e-09), ('smarthome-undecided', 1.4062929e-09), ('thanks', 1.6397276e-11), ('wantsConvertible-ambiguous', 1.8449732e-12), ('Apple_Ambiguity', 2.4592897e-14)] \n",
      "\n",
      ">>> Am interested in phones\n",
      "CPU times: user 0 ns, sys: 0 ns, total: 0 ns\n",
      "Wall time: 11.2 µs\n",
      "Samsung or Apple? \n",
      "\n",
      "[('generalPhonesQuery', 0.96330774), ('wantsYoga', 0.018889859), ('wantsVR', 0.0084588481), ('likesSamsung', 0.0019944606), ('greeting', 0.00117045), ('likes_iPhone', 0.0010097076), ('wantsDrone', 0.00090850558), ('wantsWearable', 0.00067780068), ('wantsSurface', 0.00065814529), ('smarthome-undecided', 0.00059076439), ('thanks', 0.00048332897), ('wantsMacBook', 0.00042215761), ('wants_virtual_assistent', 0.0003925442), ('wantsRoboticVacuum', 0.00032382828), ('wantsCoffeeMachine', 0.00025533669), ('wantsComputer', 0.00016093643), ('goodbye', 0.00015380772), ('hates_Apple', 0.00010987834), ('wantsConvertible-ambiguous', 3.1657761e-05), ('Apple_Ambiguity', 1.6879194e-07)] \n",
      "\n",
      ">>> Samsung\n",
      "CPU times: user 0 ns, sys: 0 ns, total: 0 ns\n",
      "Wall time: 11 µs\n",
      "We can rent you the Samsung Galaxy S8 64GB for €44,99 or the S8+ for€49,99 \n",
      "\n",
      "[('likesSamsung', 0.91877747), ('wantsRoboticVacuum', 0.024028441), ('wantsSurface', 0.0090564052), ('generalPhonesQuery', 0.0090423292), ('wantsCoffeeMachine', 0.0073308423), ('wantsComputer', 0.0047786068), ('greeting', 0.0047030859), ('likes_iPhone', 0.0031664385), ('wantsVR', 0.0029772348), ('wantsMacBook', 0.002125134), ('smarthome-undecided', 0.0019998848), ('wantsYoga', 0.0019652327), ('wants_virtual_assistent', 0.0018827026), ('wantsDrone', 0.0016403161), ('thanks', 0.0015820488), ('goodbye', 0.0014586136), ('wantsWearable', 0.0012559772), ('hates_Apple', 0.00091045484), ('wantsConvertible-ambiguous', 0.00079712208), ('Apple_Ambiguity', 0.00052169937)] \n",
      "\n",
      ">>> Actually would also like to hear about Apple\n",
      "CPU times: user 0 ns, sys: 0 ns, total: 0 ns\n",
      "Wall time: 11 µs\n",
      "Was that an Apple iPhone or Apple MacBook. Please answer 'MacBook' or 'iPhone', or if you mean the Apple Watch, please say 'smart watch' \n",
      "\n",
      "[('Apple_Ambiguity', 0.754583), ('likesSamsung', 0.073290981), ('wantsRoboticVacuum', 0.050308239), ('hates_Apple', 0.022980539), ('thanks', 0.021704551), ('goodbye', 0.014931833), ('wantsCoffeeMachine', 0.013454596), ('likes_iPhone', 0.0084045567), ('wantsVR', 0.0056714825), ('wantsWearable', 0.0054169302), ('wantsDrone', 0.0050345459), ('wants_virtual_assistent', 0.0046445518), ('wantsMacBook', 0.0037467505), ('generalPhonesQuery', 0.0036130936), ('wantsComputer', 0.003126337), ('wantsYoga', 0.0030456176), ('greeting', 0.0022343623), ('smarthome-undecided', 0.0021104978), ('wantsSurface', 0.0013265697), ('wantsConvertible-ambiguous', 0.00037093699)] \n",
      "\n",
      ">>> iPhone\n",
      "CPU times: user 0 ns, sys: 0 ns, total: 0 ns\n",
      "Wall time: 10.7 µs\n",
      "You can rent an iPhone 7 128GB for €44,99, an iPhone 7 32GB for €39,99 or a 7 Plus 128GB for €49,99 \n",
      "\n",
      "[('likes_iPhone', 0.99399298), ('smarthome-undecided', 0.0015316512), ('wantsVR', 0.00066733139), ('wantsYoga', 0.00064657745), ('generalPhonesQuery', 0.00060644391), ('wantsMacBook', 0.00039963628), ('wantsSurface', 0.00034765215), ('wantsComputer', 0.00029373393), ('likesSamsung', 0.0002664412), ('hates_Apple', 0.00021523608), ('wantsCoffeeMachine', 0.00019288286), ('wantsWearable', 0.00018970658), ('wants_virtual_assistent', 0.00018228687), ('greeting', 0.00015211201), ('wantsDrone', 0.0001167228), ('Apple_Ambiguity', 0.00010735332), ('wantsRoboticVacuum', 6.9918795e-05), ('thanks', 1.7409973e-05), ('goodbye', 3.5668666e-06), ('wantsConvertible-ambiguous', 3.5238037e-07)] \n",
      "\n",
      ">>> Ok good. I heard you also have smart appliances. What have you got?\n",
      "CPU times: user 0 ns, sys: 0 ns, total: 0 ns\n",
      "Wall time: 10 µs\n",
      "We have robotic vacuum cleaners, virtual assistant speakers and a coffee machine \n",
      "\n",
      "[('smarthome-undecided', 0.97755402), ('likes_iPhone', 0.0042722179), ('wantsDrone', 0.0042018113), ('greeting', 0.0024283596), ('generalPhonesQuery', 0.0019721736), ('hates_Apple', 0.0018607555), ('wantsRoboticVacuum', 0.0012699509), ('wantsWearable', 0.0010225755), ('wantsVR', 0.00094345317), ('wants_virtual_assistent', 0.00092319999), ('likesSamsung', 0.00080621173), ('wantsSurface', 0.00075170526), ('wantsCoffeeMachine', 0.0004626778), ('wantsMacBook', 0.00037827974), ('goodbye', 0.00037103781), ('wantsComputer', 0.0003627195), ('wantsYoga', 0.00033641944), ('thanks', 5.357989e-05), ('Apple_Ambiguity', 1.5984175e-05), ('wantsConvertible-ambiguous', 1.2792986e-05)] \n",
      "\n",
      ">>> Well, the speakers interest me\n",
      "CPU times: user 0 ns, sys: 0 ns, total: 0 ns\n",
      "Wall time: 11 µs\n",
      "You can rent the Amazon Alexa Dot for €44,99 or the Alexa Echo for €49,99 \n",
      "\n",
      "[('wants_virtual_assistent', 0.96731001), ('likes_iPhone', 0.0080759404), ('generalPhonesQuery', 0.0050853407), ('smarthome-undecided', 0.004096407), ('wantsYoga', 0.0032130138), ('wantsComputer', 0.0022549292), ('greeting', 0.0017241722), ('wantsMacBook', 0.0016862046), ('wantsDrone', 0.0013736163), ('goodbye', 0.0011964286), ('likesSamsung', 0.00079996616), ('wantsCoffeeMachine', 0.00078984851), ('wantsVR', 0.00057519204), ('thanks', 0.00048355813), ('wantsRoboticVacuum', 0.00042453542), ('wantsWearable', 0.00039883904), ('wantsSurface', 0.00028720859), ('Apple_Ambiguity', 0.00019639698), ('hates_Apple', 1.781657e-05), ('wantsConvertible-ambiguous', 1.0555123e-05)] \n",
      "\n",
      ">>> and what if my computer died and I needed a new one?\n",
      "CPU times: user 0 ns, sys: 0 ns, total: 0 ns\n",
      "Wall time: 10.7 µs\n",
      "We have a range of MacBooks, a Microsoft Surface or a Lenovo Yoga. Which kind would you like? \n",
      "\n",
      "[('wantsComputer', 0.89038396), ('wantsMacBook', 0.027629891), ('generalPhonesQuery', 0.023664642), ('wantsVR', 0.020039333), ('likes_iPhone', 0.010690162), ('wantsYoga', 0.0074160388), ('smarthome-undecided', 0.004344088), ('wants_virtual_assistent', 0.0034633991), ('wantsDrone', 0.0034139797), ('wantsWearable', 0.0023248913), ('likesSamsung', 0.0019642217), ('wantsSurface', 0.0017579077), ('wantsRoboticVacuum', 0.0010397811), ('hates_Apple', 0.00076683337), ('goodbye', 0.00043721657), ('greeting', 0.00035330816), ('thanks', 0.00011376155), ('wantsCoffeeMachine', 0.00010328968), ('Apple_Ambiguity', 7.0582144e-05), ('wantsConvertible-ambiguous', 2.2685968e-05)] \n",
      "\n",
      ">>> How much for the Macbooks?\n",
      "CPU times: user 0 ns, sys: 0 ns, total: 0 ns\n",
      "Wall time: 10.7 µs\n",
      "We have the following MacBooks: MacBook 12 inch M-5Y31, 8GB RAM, 516GB for €59,99, MacBook Air 11 inch i7 2.2, 8GB RAM, 512GB for €64,99, MacBook Air 13 inch i5-5250U, 4GB RAM, 128GB for €69,99, MacBook Pro 13 inch i5-3210M, 4GB RAM, 500GB for €74,99. \n",
      "\n",
      "[('wantsMacBook', 0.86970949), ('generalPhonesQuery', 0.072843708), ('wantsVR', 0.010564602), ('wantsYoga', 0.010405536), ('wants_virtual_assistent', 0.007580671), ('smarthome-undecided', 0.0063003046), ('wantsSurface', 0.0035519388), ('wantsComputer', 0.0034867974), ('greeting', 0.0028896783), ('wantsWearable', 0.0026561609), ('likesSamsung', 0.00214078), ('goodbye', 0.0019727848), ('likes_iPhone', 0.0014600188), ('wantsCoffeeMachine', 0.0014535064), ('wantsDrone', 0.0013452574), ('wantsRoboticVacuum', 0.0012459003), ('hates_Apple', 0.00021284517), ('thanks', 0.00017663094), ('Apple_Ambiguity', 2.1880323e-06), ('wantsConvertible-ambiguous', 1.2345075e-06)] \n",
      "\n",
      ">>> And the microsoft surface?\n",
      "CPU times: user 0 ns, sys: 0 ns, total: 0 ns\n",
      "Wall time: 10 µs\n",
      "Certainly you can rent a Microsoft Surface convertible notebook 512GB SSD Intel Core i7 16GB RAM dGPU for €59,99 \n",
      "\n",
      "[('wantsSurface', 0.99999344), ('wantsVR', 1.1673949e-06), ('likesSamsung', 1.1394508e-06), ('wantsDrone', 1.0921706e-06), ('likes_iPhone', 6.3995964e-07), ('hates_Apple', 6.1207749e-07), ('wantsCoffeeMachine', 4.3609543e-07), ('greeting', 3.3745218e-07), ('smarthome-undecided', 2.3357492e-07), ('generalPhonesQuery', 1.9523102e-07), ('wantsYoga', 1.6628148e-07), ('wantsWearable', 1.4877556e-07), ('thanks', 1.1172175e-07), ('wantsRoboticVacuum', 1.0405729e-07), ('wantsMacBook', 1.0153926e-07), ('wants_virtual_assistent', 5.230882e-08), ('wantsComputer', 2.5897609e-08), ('wantsConvertible-ambiguous', 2.3468978e-09), ('Apple_Ambiguity', 1.7586925e-11), ('goodbye', 1.3350436e-12)] \n",
      "\n"
     ]
    },
    {
     "name": "stdout",
     "output_type": "stream",
     "text": [
      ">>> do you have the apple watch?\n",
      "CPU times: user 0 ns, sys: 0 ns, total: 0 ns\n",
      "Wall time: 10.7 µs\n",
      "You can rent the following smartwatches : 38mm Apple Watch for €39,99, 42mm Apple Watch for €44,99,  Suunto Ambit 3 watch for €39,99 or Asus Watch WI503Q-1LDBR0001 for €44,99. \n",
      "\n",
      "[('wantsWearable', 0.92927366), ('Apple_Ambiguity', 0.048091952), ('hates_Apple', 0.011118661), ('wantsCoffeeMachine', 0.0019772749), ('thanks', 0.0017198959), ('smarthome-undecided', 0.001566886), ('wantsDrone', 0.0012688679), ('wantsConvertible-ambiguous', 0.0012380067), ('goodbye', 0.00058281398), ('likes_iPhone', 0.00053989457), ('wantsRoboticVacuum', 0.00050557754), ('wants_virtual_assistent', 0.00041568404), ('wantsMacBook', 0.00036206245), ('wantsComputer', 0.00034072212), ('greeting', 0.00027293601), ('wantsVR', 0.00025890669), ('wantsSurface', 0.00020247862), ('wantsYoga', 0.00011323013), ('likesSamsung', 0.00011018444), ('generalPhonesQuery', 4.0355735e-05)] \n",
      "\n",
      ">>> what about virtual reality glasses?\n",
      "CPU times: user 0 ns, sys: 0 ns, total: 0 ns\n",
      "Wall time: 10.7 µs\n",
      "We can rent you the HTC Vice or the Oculus Rift VR-glasses, both cost €59,99 \n",
      "\n",
      "[('wantsVR', 0.95758837), ('wantsDrone', 0.0077434462), ('likes_iPhone', 0.006658054), ('wantsSurface', 0.0048866281), ('wantsCoffeeMachine', 0.0039941641), ('generalPhonesQuery', 0.0037598568), ('likesSamsung', 0.0031797593), ('smarthome-undecided', 0.0018147535), ('wants_virtual_assistent', 0.0018096732), ('greeting', 0.0017377932), ('wantsComputer', 0.0014739173), ('wantsWearable', 0.0013438497), ('wantsYoga', 0.0012977511), ('hates_Apple', 0.00092949532), ('wantsMacBook', 0.00091826916), ('wantsRoboticVacuum', 0.00037013713), ('goodbye', 0.00030716436), ('thanks', 0.0001784163), ('wantsConvertible-ambiguous', 6.3441289e-06), ('Apple_Ambiguity', 2.2205325e-06)] \n",
      "\n",
      ">>> Ok that's all for now thanks\n",
      "CPU times: user 0 ns, sys: 0 ns, total: 0 ns\n",
      "Wall time: 11 µs\n",
      "Happy to help! \n",
      "\n",
      "[('thanks', 0.99973685), ('Apple_Ambiguity', 0.00014890324), ('wantsConvertible-ambiguous', 5.2674586e-05), ('smarthome-undecided', 2.9501502e-05), ('wantsYoga', 9.1936081e-06), ('wants_virtual_assistent', 4.8837974e-06), ('hates_Apple', 4.1436551e-06), ('generalPhonesQuery', 3.8194621e-06), ('goodbye', 1.672364e-06), ('wantsWearable', 1.595437e-06), ('wantsCoffeeMachine', 1.5803197e-06), ('wantsVR', 1.4827434e-06), ('likesSamsung', 1.3037804e-06), ('wantsComputer', 8.0917221e-07), ('likes_iPhone', 4.3035755e-07), ('wantsSurface', 3.825194e-07), ('wantsRoboticVacuum', 3.8068598e-07), ('wantsMacBook', 2.8356709e-07), ('wantsDrone', 5.1248129e-08), ('greeting', 1.5440898e-08)] \n",
      "\n",
      ">>> goodbye\n",
      "CPU times: user 0 ns, sys: 0 ns, total: 0 ns\n",
      "Wall time: 11 µs\n",
      "See you later, thanks for visiting \n",
      "\n",
      "[('goodbye', 0.99629992), ('wantsComputer', 0.00043983673), ('likesSamsung', 0.00041266051), ('generalPhonesQuery', 0.00040597253), ('wantsMacBook', 0.00036633998), ('greeting', 0.00032842185), ('wants_virtual_assistent', 0.00026791159), ('thanks', 0.00024313595), ('Apple_Ambiguity', 0.00019150611), ('wantsCoffeeMachine', 0.00017615185), ('wantsWearable', 0.00014132564), ('wantsYoga', 0.0001306286), ('wantsRoboticVacuum', 0.00012643075), ('wantsConvertible-ambiguous', 0.00011150464), ('hates_Apple', 0.00010287044), ('wantsVR', 8.3278581e-05), ('smarthome-undecided', 7.9166581e-05), ('wantsDrone', 7.5035583e-05), ('likes_iPhone', 1.5322807e-05), ('wantsSurface', 2.5673537e-06)] \n",
      "\n"
     ]
    }
   ],
   "source": [
    "# for debugging feedback, use this cell\n",
    "while True:\n",
    "    question = input(\">>> \")\n",
    "    %time\n",
    "    answer = response(question)\n",
    "    c = classify(question)      \n",
    "    print (answer, '\\n')\n",
    "    print (c, '\\n')    "
   ]
  }
 ],
 "metadata": {
  "kernelspec": {
   "display_name": "Python 3",
   "language": "python",
   "name": "python3"
  },
  "language_info": {
   "codemirror_mode": {
    "name": "ipython",
    "version": 3
   },
   "file_extension": ".py",
   "mimetype": "text/x-python",
   "name": "python",
   "nbconvert_exporter": "python",
   "pygments_lexer": "ipython3",
   "version": "3.6.0"
  }
 },
 "nbformat": 4,
 "nbformat_minor": 2
}
